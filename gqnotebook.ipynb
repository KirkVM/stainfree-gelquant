{
 "cells": [
  {
   "cell_type": "code",
   "execution_count": 5,
   "metadata": {},
   "outputs": [
    {
     "name": "stdout",
     "output_type": "stream",
     "text": [
      "The autoreload extension is already loaded. To reload it, use:\n",
      "  %reload_ext autoreload\n"
     ]
    }
   ],
   "source": [
    "%load_ext autoreload\n",
    "from quantifier import *\n",
    "import pandas as pd"
   ]
  },
  {
   "cell_type": "code",
   "execution_count": 12,
   "metadata": {},
   "outputs": [],
   "source": [
    "%autoreload 2\n",
    "lbdfHT,linfodf=readin()"
   ]
  },
  {
   "cell_type": "code",
   "execution_count": 34,
   "metadata": {},
   "outputs": [
    {
     "name": "stdout",
     "output_type": "stream",
     "text": [
      "1\n",
      "1 5\n",
      "22 <class 'int'> 1\n",
      "2\n",
      "2 15\n",
      "22 <class 'int'> 2\n",
      "22\n"
     ]
    },
    {
     "ename": "KeyError",
     "evalue": "89.268353",
     "output_type": "error",
     "traceback": [
      "\u001b[1;31m---------------------------------------------------------------------------\u001b[0m",
      "\u001b[1;31mKeyError\u001b[0m                                  Traceback (most recent call last)",
      "\u001b[1;32m<ipython-input-34-f754c102b8f7>\u001b[0m in \u001b[0;36m<module>\u001b[1;34m()\u001b[0m\n\u001b[0;32m     10\u001b[0m     \u001b[0mcurdf\u001b[0m\u001b[1;33m=\u001b[0m\u001b[0mlbdfHT\u001b[0m\u001b[1;33m[\u001b[0m\u001b[0mlnum\u001b[0m\u001b[1;33m]\u001b[0m\u001b[1;33m\u001b[0m\u001b[0m\n\u001b[0;32m     11\u001b[0m     \u001b[1;32mfor\u001b[0m \u001b[0mbidx\u001b[0m \u001b[1;32min\u001b[0m \u001b[0mcurdf\u001b[0m\u001b[1;33m.\u001b[0m\u001b[0mindex\u001b[0m\u001b[1;33m:\u001b[0m\u001b[1;33m\u001b[0m\u001b[0m\n\u001b[1;32m---> 12\u001b[1;33m         \u001b[0mngPer10uL\u001b[0m\u001b[1;33m=\u001b[0m\u001b[0mpplus_ngin10uLHT\u001b[0m\u001b[1;33m[\u001b[0m\u001b[0mcurdf\u001b[0m\u001b[1;33m[\u001b[0m\u001b[1;34m'Mol. Wt. (KDa)'\u001b[0m\u001b[1;33m]\u001b[0m\u001b[1;33m.\u001b[0m\u001b[0mat\u001b[0m\u001b[1;33m[\u001b[0m\u001b[0mbidx\u001b[0m\u001b[1;33m]\u001b[0m\u001b[1;33m]\u001b[0m\u001b[1;33m\u001b[0m\u001b[0m\n\u001b[0m\u001b[0;32m     13\u001b[0m         \u001b[0mng_loaded\u001b[0m\u001b[1;33m=\u001b[0m\u001b[0mngPer10uL\u001b[0m\u001b[1;33m*\u001b[0m\u001b[1;33m(\u001b[0m\u001b[0mload_uL\u001b[0m\u001b[1;33m/\u001b[0m\u001b[1;36m10\u001b[0m\u001b[1;33m)\u001b[0m\u001b[1;33m\u001b[0m\u001b[0m\n\u001b[0;32m     14\u001b[0m         \u001b[1;31m#print(curdf['Mol. Wt.'].at[bidx],ng_loaded)\u001b[0m\u001b[1;33m\u001b[0m\u001b[1;33m\u001b[0m\u001b[0m\n",
      "\u001b[1;31mKeyError\u001b[0m: 89.268353"
     ]
    }
   ],
   "source": [
    "pplus_ngin10uLHT={250:360,150:210,100:15,75:660,50:733.3,37:220,25:800,20:150,15:200,10:140}\n",
    "pplus_winseqHT={250:51,150:29,100:19,75:14,50:10,37:5,25:5,20:3,15:3,10:2}\n",
    "\n",
    "#start by getting calibration curve from relevant lanes\n",
    "stdlanedf=linfodf[linfodf['sample']=='std']\n",
    "for std in stdlanedf.index:\n",
    "    lnum=stdlanedf['lane'].at[std]\n",
    "    load_uL=stdlanedf['volume'].at[std]\n",
    "    print(lnum)\n",
    "    curdf=lbdfHT[lnum]\n",
    "    for bidx in curdf.index:\n",
    "        ngPer10uL=pplus_ngin10uLHT[curdf['Mol. Wt. (KDa)'].at[bidx]]\n",
    "        ng_loaded=ngPer10uL*(load_uL/10)\n",
    "        #print(curdf['Mol. Wt.'].at[bidx],ng_loaded)\n",
    "        #curdf['Mol. Wt.'].at[bidx]\n",
    "        #[]\n",
    "    print(lnum,load_uL)\n",
    "#    lnum=x.at['lane']\n",
    "    print(x,type(x),lnum)\n",
    "#    lane_uL=\n",
    "#    curstd_df=lbdfHT[x]\n",
    "#    curstd_df['ng']=\n",
    "#    \n",
    "#    print(x)\n",
    "#stdlanes_\n",
    "#stdsdf.head()\n",
    "#stdlanes_=[linfodf['lane'].at[x] for x in linfodf]\n",
    "#linfodf.head()"
   ]
  },
  {
   "cell_type": "code",
   "execution_count": null,
   "metadata": {},
   "outputs": [],
   "source": []
  }
 ],
 "metadata": {
  "kernelspec": {
   "display_name": "Python 3",
   "language": "python",
   "name": "python3"
  },
  "language_info": {
   "codemirror_mode": {
    "name": "ipython",
    "version": 3
   },
   "file_extension": ".py",
   "mimetype": "text/x-python",
   "name": "python",
   "nbconvert_exporter": "python",
   "pygments_lexer": "ipython3",
   "version": "3.6.5"
  }
 },
 "nbformat": 4,
 "nbformat_minor": 2
}
